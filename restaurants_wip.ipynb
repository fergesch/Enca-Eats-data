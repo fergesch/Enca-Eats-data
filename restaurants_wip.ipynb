{
 "metadata": {
  "language_info": {
   "codemirror_mode": {
    "name": "ipython",
    "version": 3
   },
   "file_extension": ".py",
   "mimetype": "text/x-python",
   "name": "python",
   "nbconvert_exporter": "python",
   "pygments_lexer": "ipython3",
   "version": "3.8.3-final"
  },
  "orig_nbformat": 2,
  "kernelspec": {
   "name": "python3",
   "display_name": "Python 3",
   "language": "python"
  }
 },
 "nbformat": 4,
 "nbformat_minor": 2,
 "cells": [
  {
   "cell_type": "code",
   "execution_count": 1,
   "metadata": {},
   "outputs": [],
   "source": [
    "from yelpapi import YelpAPI\n",
    "import json\n",
    "import pandas as pd\n",
    "import geopandas\n",
    "from azure.cosmos import CosmosClient"
   ]
  },
  {
   "cell_type": "code",
   "execution_count": 2,
   "metadata": {},
   "outputs": [],
   "source": [
    "cosmos_url = 'https://enca-eats-cosmos.documents.azure.com:443/'\n",
    "cosmos_key = 'pAu4Vbd3QCBsOy3FdN9Cq5hTAeMMTnITZODR4QCA5j1O3bOtcRTQpV9kbLicNcZXlIBVcVhkHeSt1BqyZE4rJw=='\n",
    "client = CosmosClient(cosmos_url, credential = cosmos_key)\n",
    "database_name = 'enca-eats'\n",
    "database = client.get_database_client(database_name)\n",
    "container_name = 'restaurants'\n",
    "container = database.get_container_client(container_name)\n",
    "\n",
    "# for i in range(1, 10):\n",
    "#     container.upsert_item({\n",
    "#             'id': 'item{0}'.format(i),\n",
    "#             'productName': 'Widget',\n",
    "#             'productModel': 'Model {0}'.format(i)\n",
    "#         }\n",
    "#     )"
   ]
  },
  {
   "cell_type": "code",
   "execution_count": 3,
   "metadata": {},
   "outputs": [],
   "source": [
    "# API Parameters\n",
    "with open('yelp_key.txt', 'r') as file:\n",
    "    api_key = file.read().replace('\\n', '')\n",
    "yelp_api = YelpAPI(api_key)"
   ]
  },
  {
   "cell_type": "code",
   "execution_count": 4,
   "metadata": {},
   "outputs": [],
   "source": [
    "# Funtion to map coordinates to Chicago neighborhoods\n",
    "def find_neighborhood(p):\n",
    "    neighborhoods = geopandas.read_file(\"Boundaries - Neighborhoods.geojson\")\n",
    "    for index, row in neighborhoods.iterrows():\n",
    "        # poly_area = row['geometry'].area\n",
    "        if row['geometry'].contains(p):\n",
    "            return(row['pri_neigh'])\n",
    "    return('Unknown')"
   ]
  },
  {
   "cell_type": "code",
   "execution_count": 5,
   "metadata": {
    "tags": []
   },
   "outputs": [
    {
     "output_type": "stream",
     "name": "stdout",
     "text": [
      "pizza 548\n"
     ]
    },
    {
     "output_type": "error",
     "ename": "YelpAPIError",
     "evalue": "INTERNAL_ERROR: Something went wrong internally, please try again later.",
     "traceback": [
      "\u001b[1;31m---------------------------------------------------------------------------\u001b[0m",
      "\u001b[1;31mYelpAPIError\u001b[0m                              Traceback (most recent call last)",
      "\u001b[1;32m<ipython-input-5-df24afd0db63>\u001b[0m in \u001b[0;36m<module>\u001b[1;34m\u001b[0m\n\u001b[0;32m     12\u001b[0m     \u001b[0mprint\u001b[0m\u001b[1;33m(\u001b[0m\u001b[0mcat\u001b[0m\u001b[1;33m,\u001b[0m \u001b[0mtot_cnt\u001b[0m\u001b[1;33m)\u001b[0m\u001b[1;33m\u001b[0m\u001b[1;33m\u001b[0m\u001b[0m\n\u001b[0;32m     13\u001b[0m     \u001b[1;32mwhile\u001b[0m \u001b[1;33m(\u001b[0m\u001b[0mcnt\u001b[0m \u001b[1;33m<\u001b[0m \u001b[0mtot_cnt\u001b[0m\u001b[1;33m)\u001b[0m \u001b[1;33m&\u001b[0m \u001b[1;33m(\u001b[0m\u001b[0mcnt\u001b[0m \u001b[1;33m<\u001b[0m \u001b[1;36m100\u001b[0m\u001b[1;33m)\u001b[0m\u001b[1;33m:\u001b[0m\u001b[1;33m\u001b[0m\u001b[1;33m\u001b[0m\u001b[0m\n\u001b[1;32m---> 14\u001b[1;33m         \u001b[0mresp\u001b[0m \u001b[1;33m=\u001b[0m \u001b[0myelp_api\u001b[0m\u001b[1;33m.\u001b[0m\u001b[0msearch_query\u001b[0m\u001b[1;33m(\u001b[0m\u001b[0mcategories\u001b[0m\u001b[1;33m=\u001b[0m\u001b[0mcat\u001b[0m\u001b[1;33m,\u001b[0m \u001b[0mlocation\u001b[0m\u001b[1;33m=\u001b[0m\u001b[1;34m'Chicago'\u001b[0m\u001b[1;33m,\u001b[0m \u001b[0mlimit\u001b[0m\u001b[1;33m=\u001b[0m\u001b[1;36m20\u001b[0m\u001b[1;33m,\u001b[0m \u001b[0moffset\u001b[0m \u001b[1;33m=\u001b[0m \u001b[0mcnt\u001b[0m\u001b[1;33m)\u001b[0m\u001b[1;33m\u001b[0m\u001b[1;33m\u001b[0m\u001b[0m\n\u001b[0m\u001b[0;32m     15\u001b[0m         \u001b[1;32mfor\u001b[0m \u001b[0mi\u001b[0m \u001b[1;32min\u001b[0m \u001b[0mresp\u001b[0m\u001b[1;33m[\u001b[0m\u001b[1;34m'businesses'\u001b[0m\u001b[1;33m]\u001b[0m\u001b[1;33m:\u001b[0m\u001b[1;33m\u001b[0m\u001b[1;33m\u001b[0m\u001b[0m\n\u001b[0;32m     16\u001b[0m             \u001b[0mcnt\u001b[0m\u001b[1;33m+=\u001b[0m\u001b[1;36m1\u001b[0m\u001b[1;33m\u001b[0m\u001b[1;33m\u001b[0m\u001b[0m\n",
      "\u001b[1;32m~\\anaconda3\\lib\\site-packages\\yelpapi\\yelpapi.py\u001b[0m in \u001b[0;36msearch_query\u001b[1;34m(self, **kwargs)\u001b[0m\n\u001b[0;32m    232\u001b[0m                              '(parameters \"latitude\" and \"longitude\") must be provided.')\n\u001b[0;32m    233\u001b[0m \u001b[1;33m\u001b[0m\u001b[0m\n\u001b[1;32m--> 234\u001b[1;33m         \u001b[1;32mreturn\u001b[0m \u001b[0mself\u001b[0m\u001b[1;33m.\u001b[0m\u001b[0m_query\u001b[0m\u001b[1;33m(\u001b[0m\u001b[0mSEARCH_API_URL\u001b[0m\u001b[1;33m,\u001b[0m \u001b[1;33m**\u001b[0m\u001b[0mkwargs\u001b[0m\u001b[1;33m)\u001b[0m\u001b[1;33m\u001b[0m\u001b[1;33m\u001b[0m\u001b[0m\n\u001b[0m\u001b[0;32m    235\u001b[0m \u001b[1;33m\u001b[0m\u001b[0m\n\u001b[0;32m    236\u001b[0m     \u001b[1;32mdef\u001b[0m \u001b[0mtransaction_search_query\u001b[0m\u001b[1;33m(\u001b[0m\u001b[0mself\u001b[0m\u001b[1;33m,\u001b[0m \u001b[0mtransaction_type\u001b[0m\u001b[1;33m,\u001b[0m \u001b[1;33m**\u001b[0m\u001b[0mkwargs\u001b[0m\u001b[1;33m)\u001b[0m\u001b[1;33m:\u001b[0m\u001b[1;33m\u001b[0m\u001b[1;33m\u001b[0m\u001b[0m\n",
      "\u001b[1;32m~\\anaconda3\\lib\\site-packages\\yelpapi\\yelpapi.py\u001b[0m in \u001b[0;36m_query\u001b[1;34m(self, url, **kwargs)\u001b[0m\n\u001b[0;32m    280\u001b[0m         \u001b[1;31m# https://github.com/Yelp/yelp-fusion/issues/95 for more info.\u001b[0m\u001b[1;33m\u001b[0m\u001b[1;33m\u001b[0m\u001b[1;33m\u001b[0m\u001b[0m\n\u001b[0;32m    281\u001b[0m         \u001b[1;32mif\u001b[0m \u001b[1;34m'error'\u001b[0m \u001b[1;32min\u001b[0m \u001b[0mresponse_json\u001b[0m\u001b[1;33m:\u001b[0m\u001b[1;33m\u001b[0m\u001b[1;33m\u001b[0m\u001b[0m\n\u001b[1;32m--> 282\u001b[1;33m             raise YelpAPI.YelpAPIError('{}: {}'.format(response_json['error']['code'],\n\u001b[0m\u001b[0;32m    283\u001b[0m                                                        response_json['error']['description']))\n\u001b[0;32m    284\u001b[0m \u001b[1;33m\u001b[0m\u001b[0m\n",
      "\u001b[1;31mYelpAPIError\u001b[0m: INTERNAL_ERROR: Something went wrong internally, please try again later."
     ]
    }
   ],
   "source": [
    "# Sample 100 restaurants Yelp pages from list of categories\n",
    "category_list = ['pizza', 'sandwiches', 'mexican']\n",
    "# category_list = ['restaurnts', 'food']\n",
    "# category_list = ['restaurnts']\n",
    "\n",
    "bus_list = []\n",
    "# cnt = 0\n",
    "for cat in category_list:\n",
    "    cnt = 0\n",
    "    response_check = yelp_api.search_query(categories=cat, location='Chicago', limit=1)\n",
    "    tot_cnt = response_check['total']\n",
    "    print(cat, tot_cnt)\n",
    "    while (cnt < tot_cnt) & (cnt < 100):\n",
    "        resp = yelp_api.search_query(categories=cat, location='Chicago', limit=20, offset = cnt)\n",
    "        for i in resp['businesses']:\n",
    "            cnt+=1\n",
    "            bus_list.append(i)\n",
    "            # print(cat, cnt, i['id'], i['name'])\n",
    "\n",
    "bus_ids = []\n",
    "dedupe_list = []\n",
    "for i in bus_list:\n",
    "    if i['id'] not in bus_ids: \n",
    "        bus_ids.append(i['id'])\n",
    "        dedupe_list.append(i)\n",
    "bus_list = dedupe_list"
   ]
  },
  {
   "cell_type": "code",
   "execution_count": 10,
   "metadata": {},
   "outputs": [
    {
     "output_type": "execute_result",
     "data": {
      "text/plain": [
       "{'id': '8vFJH_paXsMocmEO_KAa3w',\n",
       " 'alias': 'lou-malnatis-pizzeria-chicago',\n",
       " 'name': \"Lou Malnati's Pizzeria\",\n",
       " 'image_url': 'https://s3-media2.fl.yelpcdn.com/bphoto/rUg2qmNEK2kLmmZ5hcc6mg/o.jpg',\n",
       " 'is_closed': False,\n",
       " 'url': 'https://www.yelp.com/biz/lou-malnatis-pizzeria-chicago?adjust_creative=ZzZ3ffcKnwQmN827qh1vKw&utm_campaign=yelp_api_v3&utm_medium=api_v3_business_search&utm_source=ZzZ3ffcKnwQmN827qh1vKw',\n",
       " 'review_count': 6198,\n",
       " 'categories': [{'alias': 'pizza', 'title': 'Pizza'},\n",
       "  {'alias': 'italian', 'title': 'Italian'},\n",
       "  {'alias': 'sandwiches', 'title': 'Sandwiches'}],\n",
       " 'rating': 4.0,\n",
       " 'coordinates': {'latitude': 41.890357, 'longitude': -87.633704},\n",
       " 'transactions': ['pickup', 'delivery'],\n",
       " 'price': '$$',\n",
       " 'location': {'address1': '439 N Wells St',\n",
       "  'address2': '',\n",
       "  'address3': '',\n",
       "  'city': 'Chicago',\n",
       "  'zip_code': '60654',\n",
       "  'country': 'US',\n",
       "  'state': 'IL',\n",
       "  'display_address': ['439 N Wells St', 'Chicago, IL 60654']},\n",
       " 'phone': '+13128289800',\n",
       " 'display_phone': '(312) 828-9800',\n",
       " 'distance': 4000.9990531720227,\n",
       " 'neighborhood': 'River North'}"
      ]
     },
     "metadata": {},
     "execution_count": 10
    }
   ],
   "source": [
    "from shapely.geometry import Point\n",
    "bus = bus_list[0]\n",
    "\n",
    "bus['neighborhood'] = find_neighborhood(Point(bus['coordinates']['longitude'], bus['coordinates']['latitude']))\n",
    "bus"
   ]
  },
  {
   "cell_type": "code",
   "execution_count": 11,
   "metadata": {},
   "outputs": [
    {
     "output_type": "execute_result",
     "data": {
      "text/plain": [
       "{'id': '8vFJH_paXsMocmEO_KAa3w',\n",
       " 'alias': 'lou-malnatis-pizzeria-chicago',\n",
       " 'name': \"Lou Malnati's Pizzeria\",\n",
       " 'image_url': 'https://s3-media2.fl.yelpcdn.com/bphoto/rUg2qmNEK2kLmmZ5hcc6mg/o.jpg',\n",
       " 'is_closed': False,\n",
       " 'url': 'https://www.yelp.com/biz/lou-malnatis-pizzeria-chicago?adjust_creative=ZzZ3ffcKnwQmN827qh1vKw&utm_campaign=yelp_api_v3&utm_medium=api_v3_business_search&utm_source=ZzZ3ffcKnwQmN827qh1vKw',\n",
       " 'review_count': 6198,\n",
       " 'categories': [{'alias': 'pizza', 'title': 'Pizza'},\n",
       "  {'alias': 'italian', 'title': 'Italian'},\n",
       "  {'alias': 'sandwiches', 'title': 'Sandwiches'}],\n",
       " 'rating': 4.0,\n",
       " 'coordinates': {'latitude': 41.890357, 'longitude': -87.633704},\n",
       " 'transactions': ['pickup', 'delivery'],\n",
       " 'price': '$$',\n",
       " 'location': {'address1': '439 N Wells St',\n",
       "  'address2': '',\n",
       "  'address3': '',\n",
       "  'city': 'Chicago',\n",
       "  'zip_code': '60654',\n",
       "  'country': 'US',\n",
       "  'state': 'IL',\n",
       "  'display_address': ['439 N Wells St', 'Chicago, IL 60654']},\n",
       " 'phone': '+13128289800',\n",
       " 'display_phone': '(312) 828-9800',\n",
       " 'distance': 4000.9990531720227,\n",
       " 'neighborhood': 'River North',\n",
       " '_rid': 'tJleAK0BGfYKAAAAAAAAAA==',\n",
       " '_self': 'dbs/tJleAA==/colls/tJleAK0BGfY=/docs/tJleAK0BGfYKAAAAAAAAAA==/',\n",
       " '_etag': '\"5900859d-0000-0300-0000-5fe957150000\"',\n",
       " '_attachments': 'attachments/',\n",
       " '_ts': 1609127701}"
      ]
     },
     "metadata": {},
     "execution_count": 11
    }
   ],
   "source": [
    "container.upsert_item(bus)"
   ]
  }
 ]
}